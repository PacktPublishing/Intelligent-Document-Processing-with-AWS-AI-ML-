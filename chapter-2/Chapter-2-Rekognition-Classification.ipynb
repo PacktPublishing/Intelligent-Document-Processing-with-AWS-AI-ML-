{
 "cells": [
  {
   "cell_type": "code",
   "execution_count": 11,
   "id": "c34b1fe5",
   "metadata": {},
   "outputs": [],
   "source": [
    "import boto3\n",
    "import io\n",
    "import logging\n",
    "import argparse\n",
    "from PIL import Image, ImageDraw, ImageFont\n",
    "\n",
    "from botocore.exceptions import ClientError"
   ]
  },
  {
   "cell_type": "code",
   "execution_count": 12,
   "id": "928e8d61",
   "metadata": {},
   "outputs": [],
   "source": [
    "rek_client = boto3.client('rekognition')\n",
    "def callrek_cl(document):\n",
    "    model=\"<YOUR Rekognition Custom model ARN>\"\n",
    "\n",
    "    image=Image.open(document) \n",
    "    image_type=Image.MIME[image.format]\n",
    "            \n",
    "    # get images bytes for call to classify\n",
    "    image_bytes = io.BytesIO()\n",
    "    image.save(image_bytes, format=image.format)\n",
    "    image_bytes = image_bytes.getvalue()\n",
    "\n",
    "    response = rek_client.detect_custom_labels(Image={'Bytes': image_bytes}, ProjectVersionArn=model)\n",
    "    \n",
    "    return response\n",
    "\n",
    "    \n",
    "    "
   ]
  },
  {
   "cell_type": "code",
   "execution_count": 13,
   "id": "5caa17c5",
   "metadata": {},
   "outputs": [
    {
     "name": "stdout",
     "output_type": "stream",
     "text": [
      "{'CustomLabels': [{'Name': 'aws', 'Confidence': 94.83900451660156}], 'ResponseMetadata': {'RequestId': 'e51ef490-3555-4068-aa64-8b5a125c2684', 'HTTPStatusCode': 200, 'HTTPHeaders': {'x-amzn-requestid': 'e51ef490-3555-4068-aa64-8b5a125c2684', 'content-type': 'application/x-amz-json-1.1', 'content-length': '64', 'date': 'Fri, 23 Sep 2022 03:00:08 GMT'}, 'RetryAttempts': 0}}\n"
     ]
    }
   ],
   "source": [
    "response = callrek_cl(\"chapter-2-rekcl.png\")\n",
    "print(response)\n"
   ]
  },
  {
   "cell_type": "code",
   "execution_count": null,
   "id": "59fc6830",
   "metadata": {},
   "outputs": [],
   "source": []
  }
 ],
 "metadata": {
  "kernelspec": {
   "display_name": "conda_python3",
   "language": "python",
   "name": "conda_python3"
  },
  "language_info": {
   "codemirror_mode": {
    "name": "ipython",
    "version": 3
   },
   "file_extension": ".py",
   "mimetype": "text/x-python",
   "name": "python",
   "nbconvert_exporter": "python",
   "pygments_lexer": "ipython3",
   "version": "3.8.12"
  }
 },
 "nbformat": 4,
 "nbformat_minor": 5
}
