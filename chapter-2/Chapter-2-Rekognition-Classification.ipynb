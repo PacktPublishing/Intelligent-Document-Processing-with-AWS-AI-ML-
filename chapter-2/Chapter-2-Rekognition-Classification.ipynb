{
 "cells": [
  {
   "cell_type": "markdown",
   "id": "9fcfbef8",
   "metadata": {},
   "source": [
    "- Lab-1 Example of structured data extraction\n",
    "- Lab-2 Example of Semi-structured data extraction\n",
    "- Lab-3 Example of un-structured data extraction\n",
    "- Lab-4 Example of Invoice & Receipt\n",
    "- Lab-5 Example of AnalyzeID\n",
    "- Lab-6 Example of Entities extraction\n",
    "- Lab-7 Example of custom entity extraction\n",
    "- Lab-9 Custom NER with Amazon Comprehend\n"
   ]
  },
  {
   "cell_type": "markdown",
   "id": "839e508b",
   "metadata": {},
   "source": [
    "# will not need setup\n",
    "### Setup for Lab-1 to Lab-6\n",
    "1. Click on link below to get a Jupyter Notebook Instance:\n",
    "https://console.aws.amazon.com/cloudformation/home?region=us-east-1#/stacks/create/review?stackName=cvbootcamp&templateURL=https://aws-workshops-us-east-1.s3.amazonaws.com/cvbootcamp/deployment/cf-sage-maker.yaml\n",
    "2. After CloudFormation stack is complete, click on Output tab and click URL under Value.\n",
    "3. Click Open Jupyter\n",
    "4. Click New -> Terminal\n",
    "5. Type: cd SageMaker\n",
    "6. Type: git clone https://github.com/aws-samples/amazon-textract-code-samples\n",
    "7. Go to the homepage of notebook and browse to amazon-textract-code-samples/python/Textract.pynb\n",
    "8. Run different samples using Jupyter Notebook Textract.ipynb"
   ]
  },
  {
   "cell_type": "markdown",
   "id": "13fd24e9",
   "metadata": {},
   "source": [
    "Execute \n",
    "- Exercise #2 - Un-structured data extraction\n",
    "- Exercise #4 - Entities Extraction \n",
    "- Exercise #8 - Form: Semi-Structured data extraction\n",
    "- Exercise #10 - Table: Structured data extraction\n"
   ]
  },
  {
   "cell_type": "markdown",
   "id": "3f70cb6e",
   "metadata": {},
   "source": [
    "# Setup for Lab-7 Example of custom entity extraction\n",
    "1. Click Open Jupyter\n",
    "2. Click New -> Terminal\n",
    "3. Type: cd SageMake\n",
    "4. Type: git clone https://github.com/aws-samples/amazon-custom-entity-recognition-textract-comprehend.git\n",
    "5. Go to the homepage of notebook and browse to amazon-custom-entity-recognition-textract-comprehend/Textract_Comprehend_Custom_Entity_Recognition.ipynb        \n",
    "6. Run different samples using Jupyter Notebook Textract_Comprehend_Custom_Entity_Recognition.ipynb\n"
   ]
  },
  {
   "cell_type": "markdown",
   "id": "122a9586",
   "metadata": {},
   "source": [
    "# Post Processing \n",
    "\n",
    "- Lab-1 Execute Exercise#11 on Textract.pynb\n",
    "- Lab-2 Setup & Execution for Human review\n",
    "    - Create Human review workflow on Amazon Augmented AI (A2I) console\n",
    "    - Execute the steps on the amazon-a2i-sample-jupyter-notebooks.pynb\n",
    "    - Check results on the review dashboard https://dwckv13mxk.labeling.us-east-1.sagemaker.aws/#/workstreams\n"
   ]
  },
  {
   "cell_type": "markdown",
   "id": "d61586a5",
   "metadata": {},
   "source": [
    "Chapter-2 Lab"
   ]
  },
  {
   "cell_type": "code",
   "execution_count": 2,
   "id": "1dc03921",
   "metadata": {},
   "outputs": [],
   "source": [
    "import boto3\n",
    "import io\n",
    "import logging\n",
    "import argparse\n",
    "from PIL import Image, ImageDraw, ImageFont\n",
    "\n",
    "from botocore.exceptions import ClientError"
   ]
  },
  {
   "cell_type": "code",
   "execution_count": 8,
   "id": "e426aa9d",
   "metadata": {},
   "outputs": [],
   "source": [
    "def callrek_cl(document):\n",
    "    model=\"arn:aws:rekognition:us-east-1:044573436347:project/book-rek-class-1/version/book-rek-class-1.2022-02-25T13.12.07/1645812727191\"\n",
    "\n",
    "    image=Image.open(document) \n",
    "    image_type=Image.MIME[image.format]\n",
    "            \n",
    "    # get images bytes for call to classify\n",
    "    image_bytes = io.BytesIO()\n",
    "    image.save(image_bytes, format=image.format)\n",
    "    image_bytes = image_bytes.getvalue()\n",
    "\n",
    "    response = rek_client.detect_custom_labels(Image={'Bytes': image_bytes}, ProjectVersionArn=model)\n",
    "    \n",
    "    return response\n",
    "\n",
    "    \n",
    "    "
   ]
  },
  {
   "cell_type": "code",
   "execution_count": 13,
   "id": "e7db85d1",
   "metadata": {},
   "outputs": [
    {
     "name": "stdout",
     "output_type": "stream",
     "text": [
      "{'CustomLabels': [{'Name': 'aws', 'Confidence': 94.83900451660156}], 'ResponseMetadata': {'RequestId': '9384532f-ca7b-44a8-ae04-dc8d11a4d6e2', 'HTTPStatusCode': 200, 'HTTPHeaders': {'x-amzn-requestid': '9384532f-ca7b-44a8-ae04-dc8d11a4d6e2', 'content-type': 'application/x-amz-json-1.1', 'content-length': '64', 'date': 'Fri, 04 Mar 2022 21:09:58 GMT'}, 'RetryAttempts': 0}}\n",
      "{'CustomLabels': [{'Name': 'non-aws', 'Confidence': 38.64500045776367}], 'ResponseMetadata': {'RequestId': 'a030fe1b-9e92-44c6-9dee-0a66fe5ff7ea', 'HTTPStatusCode': 200, 'HTTPHeaders': {'x-amzn-requestid': 'a030fe1b-9e92-44c6-9dee-0a66fe5ff7ea', 'content-type': 'application/x-amz-json-1.1', 'content-length': '68', 'date': 'Fri, 04 Mar 2022 21:09:58 GMT'}, 'RetryAttempts': 0}}\n"
     ]
    }
   ],
   "source": [
    "response = callrek_cl(\"chapter-2-rekcl.png\")\n",
    "print(response)\n",
    "\n",
    "\n",
    "response1 = callrek_cl(\"cha15train.png\")\n",
    "print(response1)"
   ]
  },
  {
   "cell_type": "code",
   "execution_count": null,
   "id": "0eacd9e1",
   "metadata": {},
   "outputs": [],
   "source": []
  }
 ],
 "metadata": {
  "kernelspec": {
   "display_name": "conda_python3",
   "language": "python",
   "name": "conda_python3"
  },
  "language_info": {
   "codemirror_mode": {
    "name": "ipython",
    "version": 3
   },
   "file_extension": ".py",
   "mimetype": "text/x-python",
   "name": "python",
   "nbconvert_exporter": "python",
   "pygments_lexer": "ipython3",
   "version": "3.6.13"
  }
 },
 "nbformat": 4,
 "nbformat_minor": 5
}
